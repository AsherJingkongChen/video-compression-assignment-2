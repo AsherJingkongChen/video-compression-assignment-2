{
 "cells": [
  {
   "cell_type": "markdown",
   "metadata": {},
   "source": [
    "# Video Compression Assignment 2"
   ]
  },
  {
   "cell_type": "markdown",
   "metadata": {},
   "source": [
    "## Task 1\n",
    "\n",
    "> Motion Estimation\n",
    "\n",
    "Please apply the full-search block-matching algorithm to the luma component of `foreman_qcif_1_rgb.bmp` with the reference frame `foreman_qcif_0_rgb.bmp`.\n",
    "\n",
    "The collocated position in the reference frame of the top-left pixel of each MB is the center of the search window.\n",
    "\n",
    "The search range is set to [-16, 15]. The similarity  metric is SAD. Please show MVs for all the MBs in the video frame. "
   ]
  },
  {
   "cell_type": "markdown",
   "metadata": {},
   "source": [
    "## Solution of Task 1"
   ]
  },
  {
   "cell_type": "markdown",
   "metadata": {},
   "source": [
    "The marcoblock size is 16x16, and the search window size is 32x32:"
   ]
  },
  {
   "cell_type": "code",
   "execution_count": 1,
   "metadata": {},
   "outputs": [],
   "source": [
    "block_size = (16, 16)\n",
    "search_size = (32, 32)"
   ]
  },
  {
   "cell_type": "markdown",
   "metadata": {},
   "source": [
    "The top-left pixel of a macroblock is the block index as well as the center of the search window:\n",
    "\n",
    "```plaintext\n",
    "o: block index\n",
    "+: other pixel\n",
    "\n",
    "o + + +\n",
    "+ + + +\n",
    "+ + + +\n",
    "+ + + +\n",
    "```"
   ]
  },
  {
   "cell_type": "markdown",
   "metadata": {},
   "source": [
    "For a search window locates at the `center`, the range of block index to search is `[center - window_size // 2, center]`:\n",
    "\n",
    "```plaintext\n",
    "o: search block index\n",
    "x: center block index (also search block index)\n",
    "+: other pixel\n",
    "\n",
    "o o o o|o + + +\n",
    "o o o o|o + + +\n",
    "o o o o|o + + +\n",
    "o o o o|o + + +\n",
    "-------+-------\n",
    "o o o o|x + + +\n",
    "+ + + +|+ + + +\n",
    "+ + + +|+ + + +\n",
    "+ + + +|+ + + +\n",
    "```"
   ]
  },
  {
   "cell_type": "code",
   "execution_count": 2,
   "metadata": {},
   "outputs": [
    {
     "data": {
      "text/plain": [
       "((-16, 0), (-16, 0))"
      ]
     },
     "metadata": {},
     "output_type": "display_data"
    }
   ],
   "source": [
    "search_block_index_range = ((-search_size[0] // 2, 0), (-search_size[1] // 2, 0))\n",
    "display(search_block_index_range)"
   ]
  },
  {
   "cell_type": "markdown",
   "metadata": {},
   "source": [
    "Wrap these concepts into functions:"
   ]
  },
  {
   "cell_type": "code",
   "execution_count": 3,
   "metadata": {},
   "outputs": [],
   "source": [
    "from typing import Iterable\n",
    "from PIL.Image import Image\n",
    "\n",
    "def get_grid_size(frame: Image) -> tuple[int, int]:\n",
    "    return (frame.width, frame.height)\n",
    "\n",
    "\n",
    "def get_block_indexs(\n",
    "    grid_size: tuple[int, int],\n",
    "    block_size: tuple[int, int],\n",
    ") -> tuple[Iterable[int], Iterable[int]]:\n",
    "    assert grid_size[0] >= block_size[0], (grid_size[0], block_size[0])\n",
    "    assert grid_size[1] >= block_size[1], (grid_size[1], block_size[1])\n",
    "    return (\n",
    "        range(0, grid_size[0] - block_size[0] + 1, block_size[0]),\n",
    "        range(0, grid_size[1] - block_size[1] + 1, block_size[1]),\n",
    "    )\n",
    "\n",
    "\n",
    "def get_search_block_index_bound(\n",
    "    frame: Image,\n",
    ") -> tuple[tuple[int, int], tuple[int, int]]:\n",
    "    return ((0, max(frame.width - 1, 0)), (0, max(frame.height - 1, 0)))\n",
    "\n",
    "\n",
    "def get_search_block_indexs(\n",
    "    center_block_index: tuple[int, int],\n",
    "    search_block_index_range: tuple[tuple[int, int], tuple[int, int]],\n",
    "    search_block_index_bound: tuple[tuple[int, int], tuple[int, int]],\n",
    ") -> tuple[Iterable[int], Iterable[int]]:\n",
    "\n",
    "    def minmax(value: int, min_value: int, max_value: int) -> int:\n",
    "        return max(min(value, max_value), min_value)\n",
    "\n",
    "    return (\n",
    "        range(\n",
    "            minmax(\n",
    "                center_block_index[0] + search_block_index_range[0][0],\n",
    "                search_block_index_bound[0][0],\n",
    "                search_block_index_bound[0][1],\n",
    "            ),\n",
    "            minmax(\n",
    "                center_block_index[0] + search_block_index_range[0][1],\n",
    "                search_block_index_bound[0][0],\n",
    "                search_block_index_bound[0][1],\n",
    "            )\n",
    "            + 1,\n",
    "        ),\n",
    "        range(\n",
    "            minmax(\n",
    "                center_block_index[1] + search_block_index_range[1][0],\n",
    "                search_block_index_bound[1][0],\n",
    "                search_block_index_bound[1][1],\n",
    "            ),\n",
    "            minmax(\n",
    "                center_block_index[1] + search_block_index_range[1][1],\n",
    "                search_block_index_bound[1][0],\n",
    "                search_block_index_bound[1][1],\n",
    "            )\n",
    "            + 1,\n",
    "        ),\n",
    "    )"
   ]
  },
  {
   "cell_type": "markdown",
   "metadata": {},
   "source": [
    "The similarity metric is SAD, which is the sum of absolute differences between two blocks:"
   ]
  },
  {
   "cell_type": "code",
   "execution_count": 4,
   "metadata": {},
   "outputs": [],
   "source": [
    "from numpy.typing import NDArray\n",
    "\n",
    "\n",
    "def get_score_sad(\n",
    "    block_pair: tuple[NDArray, NDArray],\n",
    ") -> int:\n",
    "    from numpy import sum\n",
    "\n",
    "    return sum(abs(block_pair[0] - block_pair[1]))"
   ]
  },
  {
   "cell_type": "markdown",
   "metadata": {},
   "source": [
    "Load the images and extract their luma component:"
   ]
  },
  {
   "cell_type": "code",
   "execution_count": 5,
   "metadata": {},
   "outputs": [],
   "source": [
    "import PIL.Image as Image\n",
    "\n",
    "reference_frame = Image.open(\"../resources/foreman_qcif_0_rgb.bmp\").convert(\"L\")\n",
    "current_frame = Image.open(\"../resources/foreman_qcif_1_rgb.bmp\").convert(\"L\")\n",
    "\n",
    "import numpy\n",
    "\n",
    "reference_buffer = numpy.asarray(reference_frame)\n",
    "current_buffer = numpy.asarray(current_frame)"
   ]
  },
  {
   "cell_type": "code",
   "execution_count": 6,
   "metadata": {},
   "outputs": [
    {
     "data": {
      "text/plain": [
       "{'grid_size': (176, 144), 'search_block_index_bound': ((0, 175), (0, 143))}"
      ]
     },
     "metadata": {},
     "output_type": "display_data"
    }
   ],
   "source": [
    "grid_size = get_grid_size(current_frame)\n",
    "search_block_index_bound = get_search_block_index_bound(current_frame)\n",
    "\n",
    "display(\n",
    "    dict(\n",
    "        grid_size=grid_size,\n",
    "        search_block_index_bound=search_block_index_bound,\n",
    "    )\n",
    ")"
   ]
  },
  {
   "cell_type": "markdown",
   "metadata": {},
   "source": [
    "Perform full-search block-matching algorithm and calculate the motion vectors (`reference - current`):"
   ]
  },
  {
   "cell_type": "code",
   "execution_count": 7,
   "metadata": {},
   "outputs": [],
   "source": [
    "motion_vectors_by_full_search: list[list[tuple[int, int]]] = []\n",
    "\n",
    "from sys import maxsize\n",
    "\n",
    "center_block_x_indexs, center_block_y_indexs = get_block_indexs(grid_size, block_size)\n",
    "for center_block_y_index in center_block_y_indexs:\n",
    "\n",
    "    motion_vectors_x: list[tuple[int, int]] = []\n",
    "    for center_block_x_index in center_block_x_indexs:\n",
    "        center_block = current_buffer[\n",
    "            center_block_y_index : center_block_y_index + block_size[1],\n",
    "            center_block_x_index : center_block_x_index + block_size[0],\n",
    "        ]\n",
    "\n",
    "        search_block_x_indexs, search_block_y_indexs = get_search_block_indexs(\n",
    "            (center_block_x_index, center_block_y_index),\n",
    "            search_block_index_range,\n",
    "            search_block_index_bound,\n",
    "        )\n",
    "        best_score = maxsize\n",
    "        motion_vector: tuple[int, int] = None\n",
    "        for search_block_y_index in search_block_y_indexs:\n",
    "            for search_block_x_index in search_block_x_indexs:\n",
    "                search_block = reference_buffer[\n",
    "                    search_block_y_index : search_block_y_index + block_size[1],\n",
    "                    search_block_x_index : search_block_x_index + block_size[0],\n",
    "                ]\n",
    "                score = get_score_sad((search_block, center_block))\n",
    "\n",
    "                if best_score > score:\n",
    "                    best_score = score\n",
    "                    motion_vector = (\n",
    "                        search_block_x_index - center_block_x_index,\n",
    "                        search_block_y_index - center_block_y_index,\n",
    "                    )\n",
    "\n",
    "        motion_vectors_x.append(motion_vector)\n",
    "\n",
    "    motion_vectors_by_full_search.append(motion_vectors_x)\n"
   ]
  },
  {
   "cell_type": "markdown",
   "metadata": {},
   "source": [
    "Render the output:"
   ]
  },
  {
   "cell_type": "code",
   "execution_count": 8,
   "metadata": {},
   "outputs": [
    {
     "data": {
      "text/markdown": [
       "Display the motion vectors in the table below:\n",
       "| y \\ x | 0 | 16 | 32 | 48 | 64 | 80 | 96 | 112 | 128 | 144 | 160 |\n",
       "|-------|----------|----------|----------|----------|----------|----------|----------|----------|----------|----------|----------|\n",
       "| 0 | (0, 0) | (0, 0) | (0, 0) | (0, 0) | (0, 0) | (0, 0) | (-12, 0) | (-6, 0) | (-4, 0) | (-3, 0) | (-16, 0) |\n",
       "| 16 | (0, -16) | (0, 0) | (0, 0) | (0, 0) | (0, -2) | (0, -2) | (-6, 0) | (-14, -7) | (-15, -14) | (-16, -13) | (0, 0) |\n",
       "| 32 | (0, 0) | (0, 0) | (0, 0) | (0, 0) | (0, -16) | (0, 0) | (-5, 0) | (-11, -3) | (-14, -4) | (0, -16) | (-10, -7) |\n",
       "| 48 | (0, 0) | (0, 0) | (-13, -1) | (-3, -4) | (-13, 0) | (-2, -8) | (-6, 0) | (0, 0) | (0, 0) | (-5, -9) | (-1, -16) |\n",
       "| 64 | (0, -7) | (-6, -2) | (0, 0) | (-4, -11) | (-16, -9) | (-16, -12) | (-7, 0) | (0, 0) | (0, 0) | (0, 0) | (0, 0) |\n",
       "| 80 | (0, 0) | (-7, 0) | (-6, -3) | (0, -6) | (-2, -2) | (-16, 0) | (-6, 0) | (-2, 0) | (-3, -6) | (0, -6) | (-6, -7) |\n",
       "| 96 | (0, -2) | (-14, -5) | (-6, -2) | (-7, 0) | (-3, -15) | (-15, -10) | (-16, -12) | (-3, 0) | (-14, -10) | (-12, -14) | (-1, -7) |\n",
       "| 112 | (0, -15) | (-14, -16) | (-13, 0) | (-5, 0) | (0, -16) | (-1, 0) | (-4, 0) | (-3, -5) | (-16, -16) | (-16, -5) | (-6, -13) |\n",
       "| 128 | (0, -5) | (-13, -8) | (-15, 0) | (-16, 0) | (-14, -13) | (-15, -1) | (0, 0) | (-15, -6) | (-16, -14) | (0, 0) | (0, 0) |\n"
      ],
      "text/plain": [
       "<IPython.core.display.Markdown object>"
      ]
     },
     "metadata": {},
     "output_type": "display_data"
    }
   ],
   "source": [
    "from IPython.display import display, Markdown\n",
    "\n",
    "table_markdown_str = \"| y \\\\ x |\"\n",
    "for center_block_x_index in center_block_x_indexs:\n",
    "    table_markdown_str += f\" {center_block_x_index} |\"\n",
    "table_markdown_str += \"\\n\"\n",
    "\n",
    "table_markdown_str += \"|-------|\" + \"----------|\" * len(center_block_x_indexs) + \"\\n\"\n",
    "\n",
    "for center_block_y_index, motion_vectors_y in zip(\n",
    "    center_block_y_indexs, motion_vectors_by_full_search\n",
    "):\n",
    "    table_markdown_str += f\"| {center_block_y_index} |\"\n",
    "    for motion_vector in motion_vectors_y:\n",
    "        table_markdown_str += f\" {motion_vector} |\"\n",
    "    table_markdown_str += \"\\n\"\n",
    "\n",
    "display(\n",
    "    Markdown(f\"Display the motion vectors in the table below:\\n{table_markdown_str}\")\n",
    ")"
   ]
  },
  {
   "cell_type": "markdown",
   "metadata": {},
   "source": [
    "## Task 2\n",
    "\n",
    "Following the previous question, please implement the diamond-search algorithm. "
   ]
  },
  {
   "cell_type": "markdown",
   "metadata": {},
   "source": [
    "## Solution of Task 2"
   ]
  },
  {
   "cell_type": "markdown",
   "metadata": {},
   "source": [
    "Large diamond search pattern of radius 2:\n",
    "\n",
    "```plaintext\n",
    "o: search block index\n",
    "x: center block index (also search block index)\n",
    "+: other pixel\n",
    "\n",
    "+ + + + + + +\n",
    "+ + + o + + +\n",
    "+ + o + o + +\n",
    "+ o + x + o +\n",
    "+ + o + o + +\n",
    "+ + + o + + +\n",
    "+ + + + + + +\n",
    "```"
   ]
  },
  {
   "cell_type": "markdown",
   "metadata": {},
   "source": [
    "Write this concept into a function:"
   ]
  },
  {
   "cell_type": "code",
   "execution_count": 9,
   "metadata": {},
   "outputs": [],
   "source": [
    "def get_diamond_search_block_indexs(\n",
    "    center_block_index: tuple[int, int],\n",
    "    search_block_radius: int,\n",
    "    search_block_index_bound: tuple[tuple[int, int], tuple[int, int]],\n",
    "    block_size: tuple[int, int],\n",
    ") -> Iterable[tuple[int, int]]:\n",
    "    def get_diamond_search_block_index_relative(search_block_radius: int):\n",
    "        search_block_radius = max(search_block_radius, 0)\n",
    "        if search_block_radius > 0:\n",
    "            yield (-search_block_radius, 0)\n",
    "        for rx in range(-search_block_radius + 1, 0):\n",
    "            ry = rx + search_block_radius\n",
    "            yield (rx, -ry)\n",
    "            yield (rx, +ry)\n",
    "        if search_block_radius > 0:\n",
    "            yield (0, -search_block_radius)\n",
    "        yield (0, 0)\n",
    "        if search_block_radius > 0:\n",
    "            yield (0, +search_block_radius)\n",
    "        for rx in range(1, search_block_radius):\n",
    "            ry = rx - search_block_radius\n",
    "            yield (rx, +ry)\n",
    "            yield (rx, -ry)\n",
    "        if search_block_radius > 0:\n",
    "            yield (+search_block_radius, 0)\n",
    "\n",
    "    for search_block_index_relative in get_diamond_search_block_index_relative(\n",
    "        search_block_radius\n",
    "    ):\n",
    "        search_block_index = (\n",
    "            center_block_index[0] + search_block_index_relative[0],\n",
    "            center_block_index[1] + search_block_index_relative[1],\n",
    "        )\n",
    "        if (\n",
    "            search_block_index_bound[0][0]\n",
    "            <= search_block_index[0]\n",
    "            <= search_block_index_bound[0][1]\n",
    "            and search_block_index_bound[1][0]\n",
    "            <= search_block_index[1]\n",
    "            <= search_block_index_bound[1][1]\n",
    "            and search_block_index_bound[0][0]\n",
    "            <= search_block_index[0] + block_size[0] - 1\n",
    "            <= search_block_index_bound[0][1]\n",
    "            and search_block_index_bound[1][0]\n",
    "            <= search_block_index[1] + block_size[1] - 1\n",
    "            <= search_block_index_bound[1][1]\n",
    "        ):\n",
    "            yield search_block_index"
   ]
  },
  {
   "cell_type": "markdown",
   "metadata": {},
   "source": [
    "Take this as an example:\n",
    "\n",
    "```plaintext\n",
    "o: search block index\n",
    "x: center block index (also search block index)\n",
    "+: other pixel\n",
    "\n",
    "+ o + o + +\n",
    "o + + + o +\n",
    "+ + x + + o\n",
    "o + + + o +\n",
    "+ o + o + +\n",
    "+ + o + + +\n",
    "```"
   ]
  },
  {
   "cell_type": "code",
   "execution_count": 10,
   "metadata": {},
   "outputs": [
    {
     "data": {
      "text/plain": [
       "[(0, 1),\n",
       " (0, 3),\n",
       " (1, 0),\n",
       " (1, 4),\n",
       " (2, 2),\n",
       " (2, 5),\n",
       " (3, 0),\n",
       " (3, 4),\n",
       " (4, 1),\n",
       " (4, 3),\n",
       " (5, 2)]"
      ]
     },
     "metadata": {},
     "output_type": "display_data"
    }
   ],
   "source": [
    "display(\n",
    "    list(\n",
    "        get_diamond_search_block_indexs(\n",
    "            center_block_index=(2, 2),\n",
    "            search_block_radius=3,\n",
    "            search_block_index_bound=search_block_index_bound,\n",
    "            block_size=block_size,\n",
    "        )\n",
    "    )\n",
    ")"
   ]
  },
  {
   "cell_type": "markdown",
   "metadata": {},
   "source": [
    "Perform diamond-search block-matching algorithm and calculate the motion vectors (`reference - current`):"
   ]
  },
  {
   "cell_type": "code",
   "execution_count": 11,
   "metadata": {},
   "outputs": [
    {
     "data": {
      "text/plain": [
       "8"
      ]
     },
     "metadata": {},
     "output_type": "display_data"
    }
   ],
   "source": [
    "search_block_radius_init = block_size[0] // 2\n",
    "display(search_block_radius_init)"
   ]
  },
  {
   "cell_type": "code",
   "execution_count": 12,
   "metadata": {},
   "outputs": [],
   "source": [
    "motion_vectors_by_diamond_search: list[list[tuple[int, int]]] = []\n",
    "\n",
    "from sys import maxsize\n",
    "\n",
    "center_block_x_indexs, center_block_y_indexs = get_block_indexs(grid_size, block_size)\n",
    "for center_block_y_index in center_block_y_indexs:\n",
    "\n",
    "    motion_vectors_x: list[tuple[int, int]] = []\n",
    "    for center_block_x_index in center_block_x_indexs:\n",
    "        current_center_block_x_index = reference_center_block_x_index = (\n",
    "            center_block_x_index\n",
    "        )\n",
    "        current_center_block_y_index = reference_center_block_y_index = (\n",
    "            center_block_y_index\n",
    "        )\n",
    "        center_block = current_buffer[\n",
    "            current_center_block_y_index : current_center_block_y_index + block_size[1],\n",
    "            current_center_block_x_index : current_center_block_x_index + block_size[0],\n",
    "        ]\n",
    "\n",
    "        search_block_radius = search_block_radius_init\n",
    "        while search_block_radius > 0:\n",
    "            search_block_indexs = get_diamond_search_block_indexs(\n",
    "                (reference_center_block_x_index, reference_center_block_y_index),\n",
    "                search_block_radius,\n",
    "                search_block_index_bound,\n",
    "                block_size,\n",
    "            )\n",
    "            best_score = maxsize\n",
    "            best_reference_center_block_x_index: int = None\n",
    "            best_reference_center_block_y_index: int = None\n",
    "            for search_block_x_index, search_block_y_index in search_block_indexs:\n",
    "                search_block = reference_buffer[\n",
    "                    search_block_y_index : search_block_y_index + block_size[1],\n",
    "                    search_block_x_index : search_block_x_index + block_size[0],\n",
    "                ]\n",
    "                score = get_score_sad((search_block, center_block))\n",
    "                if best_score > score:\n",
    "                    best_score = score\n",
    "                    best_reference_center_block_x_index = search_block_x_index\n",
    "                    best_reference_center_block_y_index = search_block_y_index\n",
    "\n",
    "            if (\n",
    "                reference_center_block_x_index == best_reference_center_block_x_index\n",
    "                and reference_center_block_y_index\n",
    "                == best_reference_center_block_y_index\n",
    "            ):\n",
    "                search_block_radius -= 1\n",
    "\n",
    "            reference_center_block_x_index = best_reference_center_block_x_index\n",
    "            reference_center_block_y_index = best_reference_center_block_y_index\n",
    "\n",
    "        motion_vector = (\n",
    "            reference_center_block_x_index - current_center_block_x_index,\n",
    "            reference_center_block_y_index - current_center_block_y_index,\n",
    "        )\n",
    "        motion_vectors_x.append(motion_vector)\n",
    "\n",
    "    motion_vectors_by_diamond_search.append(motion_vectors_x)"
   ]
  },
  {
   "cell_type": "markdown",
   "metadata": {},
   "source": [
    "Render the output:"
   ]
  },
  {
   "cell_type": "code",
   "execution_count": 13,
   "metadata": {},
   "outputs": [
    {
     "data": {
      "text/markdown": [
       "Display the motion vectors in the table below:\n",
       "| y \\ x | 0 | 16 | 32 | 48 | 64 | 80 | 96 | 112 | 128 | 144 | 160 |\n",
       "|-------|----------|----------|----------|----------|----------|----------|----------|----------|----------|----------|----------|\n",
       "| 0 | (0, 0) | (0, 0) | (0, 0) | (0, 0) | (8, 14) | (6, 21) | (-4, 19) | (-6, 0) | (-4, 0) | (14, 16) | (-4, 23) |\n",
       "| 16 | (0, 0) | (0, 0) | (0, 0) | (9, 12) | (19, -3) | (8, 3) | (-5, 4) | (-6, 5) | (-15, -14) | (0, 3) | (0, 0) |\n",
       "| 32 | (0, 0) | (0, 0) | (0, 0) | (9, -14) | (24, -4) | (0, 0) | (-5, 0) | (-11, -3) | (11, 10) | (-15, 11) | (-10, -7) |\n",
       "| 48 | (17, -6) | (0, 0) | (-2, -5) | (7, -8) | (-15, 3) | (-4, 1) | (-5, 1) | (2, 1) | (3, -6) | (0, 0) | (0, 0) |\n",
       "| 64 | (17, -13) | (-6, -2) | (0, 0) | (7, -16) | (-1, 12) | (2, 3) | (-4, 9) | (2, -2) | (0, 0) | (0, 0) | (0, 0) |\n",
       "| 80 | (0, 9) | (0, 16) | (-6, -3) | (9, 8) | (-2, -2) | (-15, 3) | (7, 5) | (-2, 1) | (17, 4) | (1, -6) | (0, 0) |\n",
       "| 96 | (0, -2) | (-14, -5) | (0, 7) | (-1, 4) | (1, 0) | (5, 11) | (-7, 11) | (-9, 10) | (-14, -10) | (3, -4) | (-1, -7) |\n",
       "| 112 | (0, -23) | (-14, 4) | (-16, 8) | (-1, 4) | (10, -32) | (0, 1) | (-4, 0) | (-3, -5) | (0, 0) | (-19, -5) | (-6, -13) |\n",
       "| 128 | (0, -5) | (-13, -8) | (-29, -4) | (-16, 0) | (-14, -13) | (19, -1) | (1, -2) | (0, 0) | (15, -4) | (9, 0) | (0, 0) |\n"
      ],
      "text/plain": [
       "<IPython.core.display.Markdown object>"
      ]
     },
     "metadata": {},
     "output_type": "display_data"
    }
   ],
   "source": [
    "from IPython.display import display, Markdown\n",
    "\n",
    "table_markdown_str = \"| y \\\\ x |\"\n",
    "for center_block_x_index in center_block_x_indexs:\n",
    "    table_markdown_str += f\" {center_block_x_index} |\"\n",
    "table_markdown_str += \"\\n\"\n",
    "\n",
    "table_markdown_str += \"|-------|\" + \"----------|\" * len(center_block_x_indexs) + \"\\n\"\n",
    "\n",
    "for center_block_y_index, motion_vectors_y in zip(\n",
    "    center_block_y_indexs, motion_vectors_by_diamond_search\n",
    "):\n",
    "    table_markdown_str += f\"| {center_block_y_index} |\"\n",
    "    for motion_vector in motion_vectors_y:\n",
    "        table_markdown_str += f\" {motion_vector} |\"\n",
    "    table_markdown_str += \"\\n\"\n",
    "\n",
    "display(\n",
    "    Markdown(f\"Display the motion vectors in the table below:\\n{table_markdown_str}\")\n",
    ")"
   ]
  }
 ],
 "metadata": {
  "kernelspec": {
   "display_name": ".venv",
   "language": "python",
   "name": "python3"
  },
  "language_info": {
   "codemirror_mode": {
    "name": "ipython",
    "version": 3
   },
   "file_extension": ".py",
   "mimetype": "text/x-python",
   "name": "python",
   "nbconvert_exporter": "python",
   "pygments_lexer": "ipython3",
   "version": "3.12.2"
  }
 },
 "nbformat": 4,
 "nbformat_minor": 2
}
